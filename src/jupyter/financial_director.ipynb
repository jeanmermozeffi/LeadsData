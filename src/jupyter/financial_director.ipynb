{
 "cells": [
  {
   "cell_type": "code",
   "id": "initial_id",
   "metadata": {
    "collapsed": true,
    "ExecuteTime": {
     "end_time": "2024-07-23T14:02:17.863899Z",
     "start_time": "2024-07-23T14:02:16.625767Z"
    }
   },
   "source": [
    "import os\n",
    "import numpy as np\n",
    "import pandas as pd\n",
    "\n",
    "from utils.data_cleaning import preprocessing\n",
    "from src.loads import loads\n",
    "from configs import default_clients_list, search_keys"
   ],
   "outputs": [],
   "execution_count": 1
  },
  {
   "metadata": {
    "ExecuteTime": {
     "end_time": "2024-07-23T14:06:13.906616Z",
     "start_time": "2024-07-23T14:06:13.899929Z"
    }
   },
   "cell_type": "code",
   "source": [
    "os.environ[\"GOOGLE_APPLICATION_CREDENTIALS\"] = \"/Users/jeanmermozeffi/.google/credentials/secret-reporting-sheet.json\"\n",
    "GOOGLE_APPLICATION_CREDENTIALS = os.getenv(\"GOOGLE_APPLICATION_CREDENTIALS\")\n",
    "spreadsheet_name = search_keys[1]"
   ],
   "id": "bf41f934c5911c0f",
   "outputs": [],
   "execution_count": 7
  },
  {
   "metadata": {
    "ExecuteTime": {
     "end_time": "2024-07-23T14:03:37.917069Z",
     "start_time": "2024-07-23T14:03:37.912187Z"
    }
   },
   "cell_type": "code",
   "source": "print(search_keys)",
   "id": "feb7568de18ce372",
   "outputs": [
    {
     "name": "stdout",
     "output_type": "stream",
     "text": [
      "['Directeur General', 'Directeur Financier', 'Directeur Exploitation', 'Gestionnaire Flotte', 'Directeur Production']\n"
     ]
    }
   ],
   "execution_count": 4
  },
  {
   "metadata": {
    "ExecuteTime": {
     "end_time": "2024-07-23T14:07:25.051076Z",
     "start_time": "2024-07-23T14:07:18.567880Z"
    }
   },
   "cell_type": "code",
   "source": [
    "df_raw = loads.load_google_sheet_to_df(GOOGLE_APPLICATION_CREDENTIALS, spreadsheet_name)\n",
    "df = df_raw.copy()"
   ],
   "id": "21c152352857727",
   "outputs": [],
   "execution_count": 9
  },
  {
   "metadata": {},
   "cell_type": "markdown",
   "source": "### Suppression de doublon",
   "id": "12663abfe281d0e9"
  },
  {
   "metadata": {
    "ExecuteTime": {
     "end_time": "2024-07-23T14:07:33.366511Z",
     "start_time": "2024-07-23T14:07:33.356749Z"
    }
   },
   "cell_type": "code",
   "source": "df.shape",
   "id": "d3996f674b748089",
   "outputs": [
    {
     "data": {
      "text/plain": [
       "(500, 108)"
      ]
     },
     "execution_count": 10,
     "metadata": {},
     "output_type": "execute_result"
    }
   ],
   "execution_count": 10
  },
  {
   "metadata": {
    "ExecuteTime": {
     "end_time": "2024-07-23T14:07:59.276323Z",
     "start_time": "2024-07-23T14:07:59.262520Z"
    }
   },
   "cell_type": "code",
   "source": "df.drop_duplicates(subset='profile_id', inplace=True)",
   "id": "5493c2b6ff4c35c0",
   "outputs": [],
   "execution_count": 11
  },
  {
   "metadata": {
    "ExecuteTime": {
     "end_time": "2024-07-23T14:08:12.393887Z",
     "start_time": "2024-07-23T14:08:12.388611Z"
    }
   },
   "cell_type": "code",
   "source": "df.shape",
   "id": "fc653572dc9d95b1",
   "outputs": [
    {
     "data": {
      "text/plain": [
       "(215, 108)"
      ]
     },
     "execution_count": 12,
     "metadata": {},
     "output_type": "execute_result"
    }
   ],
   "execution_count": 12
  },
  {
   "metadata": {},
   "cell_type": "code",
   "outputs": [],
   "execution_count": null,
   "source": "",
   "id": "4980c44afa9bcac8"
  }
 ],
 "metadata": {
  "kernelspec": {
   "display_name": "Python 3",
   "language": "python",
   "name": "python3"
  },
  "language_info": {
   "codemirror_mode": {
    "name": "ipython",
    "version": 2
   },
   "file_extension": ".py",
   "mimetype": "text/x-python",
   "name": "python",
   "nbconvert_exporter": "python",
   "pygments_lexer": "ipython2",
   "version": "2.7.6"
  }
 },
 "nbformat": 4,
 "nbformat_minor": 5
}
