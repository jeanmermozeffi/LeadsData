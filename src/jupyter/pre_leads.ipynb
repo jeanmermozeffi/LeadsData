{
 "cells": [
  {
   "metadata": {},
   "cell_type": "markdown",
   "source": "## Test Recherche Correspondance",
   "id": "401111675b6dd2a5"
  },
  {
   "cell_type": "code",
   "id": "initial_id",
   "metadata": {
    "collapsed": true,
    "ExecuteTime": {
     "end_time": "2024-07-23T11:55:54.991037Z",
     "start_time": "2024-07-23T11:55:54.987500Z"
    }
   },
   "source": [
    "from thefuzz import fuzz\n",
    "import pandas as pd\n",
    "from pandas import DataFrame\n",
    "# from fuzzywuzzy import fuzz"
   ],
   "outputs": [],
   "execution_count": 18
  },
  {
   "metadata": {
    "ExecuteTime": {
     "end_time": "2024-07-23T11:32:57.232967Z",
     "start_time": "2024-07-23T11:32:57.227643Z"
    }
   },
   "cell_type": "code",
   "source": [
    "# Check the similarity score\n",
    "name = \"Kurtis Pykes\"\n",
    "full_name = \"Kurtis K D Pykes\"\n",
    "\n",
    "print(f\"Similarity score: {fuzz.ratio(name, full_name)}\")"
   ],
   "id": "a4beba5530ebedd",
   "outputs": [
    {
     "name": "stdout",
     "output_type": "stream",
     "text": [
      "Similarity score: 86\n"
     ]
    }
   ],
   "execution_count": 7
  },
  {
   "metadata": {
    "ExecuteTime": {
     "end_time": "2024-07-23T11:36:40.783203Z",
     "start_time": "2024-07-23T11:36:40.778012Z"
    }
   },
   "cell_type": "code",
   "source": [
    "# Check the similarity score\n",
    "name = \"Kurtis Pykes\"\n",
    "full_name = \"Kurtis K D Pykes\"\n",
    "\n",
    "print(f\"Similarity score: {fuzz.partial_ratio(name, full_name)}\")"
   ],
   "id": "1f6060f8d5ce8f68",
   "outputs": [
    {
     "name": "stdout",
     "output_type": "stream",
     "text": [
      "Similarity score: 74\n"
     ]
    }
   ],
   "execution_count": 10
  },
  {
   "metadata": {
    "ExecuteTime": {
     "end_time": "2024-07-23T11:39:30.158565Z",
     "start_time": "2024-07-23T11:39:30.151849Z"
    }
   },
   "cell_type": "code",
   "source": [
    "# Check the similarity score\n",
    "full_name = \"Kurtis K D Pykes\"\n",
    "full_name_reordered = \"Kurtis Pykes K D\"\n",
    "\n",
    "# Order does not matter for token sort ratio\n",
    "print(f\"Token sort ratio similarity score: {fuzz.token_sort_ratio(full_name_reordered, full_name)}\")\n",
    "\n",
    "# Order matters for partial ratio\n",
    "print(f\"Partial ratio similarity score: {fuzz.partial_ratio(full_name, full_name_reordered)}\")\n",
    "\n",
    "# Order will not effect simple ratio if strings do not match\n",
    "print(f\"Simple ratio similarity score: {fuzz.ratio(name, full_name)}\")\n"
   ],
   "id": "3cf8057e507d64bb",
   "outputs": [
    {
     "name": "stdout",
     "output_type": "stream",
     "text": [
      "Token sort ratio similarity score: 100\n",
      "Partial ratio similarity score: 86\n",
      "Simple ratio similarity score: 86\n"
     ]
    }
   ],
   "execution_count": 11
  },
  {
   "metadata": {
    "ExecuteTime": {
     "end_time": "2024-07-23T11:41:56.174260Z",
     "start_time": "2024-07-23T11:41:56.153384Z"
    }
   },
   "cell_type": "code",
   "source": [
    "# Check the similarity score\n",
    "name = \"Kurtis Pykes\"\n",
    "full_name = \"Kurtis K D Pykes\"\n",
    "\n",
    "print(f\"Token sort ratio similarity score: {fuzz.token_set_ratio(name, full_name)}\")"
   ],
   "id": "622935e568d9e9a8",
   "outputs": [
    {
     "name": "stdout",
     "output_type": "stream",
     "text": [
      "Token sort ratio similarity score: 100\n"
     ]
    }
   ],
   "execution_count": 12
  },
  {
   "metadata": {
    "ExecuteTime": {
     "end_time": "2024-07-23T11:42:51.418963Z",
     "start_time": "2024-07-23T11:42:51.390951Z"
    }
   },
   "cell_type": "code",
   "source": [
    "from thefuzz import process\n",
    "\n",
    "collection = [\"AFC Barcelona\", \"Barcelona AFC\", \"barcelona fc\", \"afc barcalona\"]\n",
    "print(process.extract(\"barcelona\", collection, scorer=fuzz.ratio))"
   ],
   "id": "daac2d7c044b3602",
   "outputs": [
    {
     "name": "stdout",
     "output_type": "stream",
     "text": [
      "[('barcelona fc', 86), ('AFC Barcelona', 82), ('Barcelona AFC', 82), ('afc barcalona', 73)]\n"
     ]
    }
   ],
   "execution_count": 13
  },
  {
   "metadata": {
    "ExecuteTime": {
     "end_time": "2024-07-23T11:46:13.933870Z",
     "start_time": "2024-07-23T11:46:13.928243Z"
    }
   },
   "cell_type": "code",
   "source": [
    "import pandas as pd\n",
    "\n",
    "# Creating a dataframe\n",
    "dict_one = {\n",
    "    \"country\": [\"England\", \"Scotland\", \"Wales\", \"United Kingdom\", \"Northern Ireland\"],\n",
    "    \"population_in_millions\": [55.98, 5.45, 3.14, 67.33, 1.89]\n",
    "}\n",
    "\n",
    "dict_two = {\n",
    "    \"country\": [\"Northern Iland\", \"Wles\", \"Scotlnd\", \"Englnd\", \"United K.\"],\n",
    "    \"GDP_per_capita\": [24900, 23882, 37460, 45101, 46510.28]\n",
    "}\n",
    "\n",
    "existing_data = pd.DataFrame(dict_one)\n",
    "exported_data = pd.DataFrame(dict_two)"
   ],
   "id": "aa783e974c1e4601",
   "outputs": [],
   "execution_count": 15
  },
  {
   "metadata": {
    "ExecuteTime": {
     "end_time": "2024-07-23T11:49:07.296317Z",
     "start_time": "2024-07-23T11:49:07.267998Z"
    }
   },
   "cell_type": "code",
   "source": [
    "# Rename the misspelled columns\n",
    "exported_data[\"country\"] = exported_data[\"country\"].apply(\n",
    "    lambda x: process.extractOne(x, existing_data[\"country\"], scorer=fuzz.partial_ratio)[0]\n",
    ")\n",
    "\n",
    "# Attempt to join the two dataframe\n",
    "data = pd.merge(existing_data, exported_data, on=\"country\", how=\"left\")\n",
    "data.head()"
   ],
   "id": "fb35a3e4d3e92335",
   "outputs": [
    {
     "data": {
      "text/plain": [
       "            country  population_in_millions  GDP_per_capita\n",
       "0           England                   55.98        45101.00\n",
       "1          Scotland                    5.45        37460.00\n",
       "2             Wales                    3.14        23882.00\n",
       "3    United Kingdom                   67.33        46510.28\n",
       "4  Northern Ireland                    1.89        24900.00"
      ],
      "text/html": [
       "<div>\n",
       "<style scoped>\n",
       "    .dataframe tbody tr th:only-of-type {\n",
       "        vertical-align: middle;\n",
       "    }\n",
       "\n",
       "    .dataframe tbody tr th {\n",
       "        vertical-align: top;\n",
       "    }\n",
       "\n",
       "    .dataframe thead th {\n",
       "        text-align: right;\n",
       "    }\n",
       "</style>\n",
       "<table border=\"1\" class=\"dataframe\">\n",
       "  <thead>\n",
       "    <tr style=\"text-align: right;\">\n",
       "      <th></th>\n",
       "      <th>country</th>\n",
       "      <th>population_in_millions</th>\n",
       "      <th>GDP_per_capita</th>\n",
       "    </tr>\n",
       "  </thead>\n",
       "  <tbody>\n",
       "    <tr>\n",
       "      <th>0</th>\n",
       "      <td>England</td>\n",
       "      <td>55.98</td>\n",
       "      <td>45101.00</td>\n",
       "    </tr>\n",
       "    <tr>\n",
       "      <th>1</th>\n",
       "      <td>Scotland</td>\n",
       "      <td>5.45</td>\n",
       "      <td>37460.00</td>\n",
       "    </tr>\n",
       "    <tr>\n",
       "      <th>2</th>\n",
       "      <td>Wales</td>\n",
       "      <td>3.14</td>\n",
       "      <td>23882.00</td>\n",
       "    </tr>\n",
       "    <tr>\n",
       "      <th>3</th>\n",
       "      <td>United Kingdom</td>\n",
       "      <td>67.33</td>\n",
       "      <td>46510.28</td>\n",
       "    </tr>\n",
       "    <tr>\n",
       "      <th>4</th>\n",
       "      <td>Northern Ireland</td>\n",
       "      <td>1.89</td>\n",
       "      <td>24900.00</td>\n",
       "    </tr>\n",
       "  </tbody>\n",
       "</table>\n",
       "</div>"
      ]
     },
     "execution_count": 16,
     "metadata": {},
     "output_type": "execute_result"
    }
   ],
   "execution_count": 16
  },
  {
   "metadata": {
    "ExecuteTime": {
     "end_time": "2024-07-23T11:55:31.413869Z",
     "start_time": "2024-07-23T11:55:31.409581Z"
    }
   },
   "cell_type": "code",
   "source": [
    "default_clients_list = [\n",
    "    'ACR AFMA', 'AGS', 'ALLIANZ AFRICA HOLDING GMBH', 'APBEF CI', 'ARTCI', 'ASSA ABLOY',\n",
    "    'BANQUE ATLANTIQUE CI', 'BOUCHARD CI', 'BPIFRANCE', 'BUREAU VERITAS', 'CAIMPEX',\n",
    "    'CATERPILAR', 'CEMOI CHOCOLAT', 'CEMOI-CI', 'CHARGEL', 'CIWA', 'COLAS AFRIQUE SUCCURSALE DE CO',\n",
    "    'DOLIDOL', 'EDF SAVANT GROUP', 'EDF-CI', 'EXCO', 'FAN MILK', 'FESI-FAYAT GROUP', 'FLEETI',\n",
    "    'FOUNDEVER', 'FRUINOV CI', 'HAUTES ETUDES COMMERCIALES', 'HOTEL GRIFFON', 'IGP', 'INTERBAT',\n",
    "    'INTERTEK MINERALS LIMITED', 'JESA INTERNATIONAL SA', 'LOUIS DREYFUS COMPANY CI',\n",
    "    'M TARGET TELECOM', 'NBCI', 'NGE CONTRACTING', 'NOVARTIS COTE D\\'IVOIRE SASU',\n",
    "    'OBTIMA-BEG INGENERIE', 'P&N COTE D\\'IVOIRE', 'PCM', 'PROJEX AFRIQUE DE L\\'OUEST', 'PROSUMA',\n",
    "    'ROCHE CI', 'SATECO', 'SCB', 'SCHNEIDER', 'SEURECA', 'SIR', 'SISAG', 'SLB', 'SMT CI',\n",
    "    'SO-B-GREEN CI', 'SODIA', 'SPAC EN COTE D\\'IVOIRE', 'SPIE BATIGNOLES', 'SUSU CI', 'TECTRA CI',\n",
    "    'TERMINAL HUILIER DE VRIDI', 'TEVIA ENERGIE', 'TotalEnergies Marketing CI SA', 'TRANSMED',\n",
    "    'VEOLIA', 'VINCI', 'WAVE CI', 'WEBHELP COTE D\\'IVOIRE'\n",
    "]"
   ],
   "id": "bf34ebd404ef79ac",
   "outputs": [],
   "execution_count": 17
  },
  {
   "metadata": {
    "ExecuteTime": {
     "end_time": "2024-07-23T11:59:52.745118Z",
     "start_time": "2024-07-23T11:59:52.738315Z"
    }
   },
   "cell_type": "code",
   "source": [
    "def filter_non_clients(dataframe: DataFrame, clients_list: list = default_clients_list, threshold: int = 85) -> DataFrame:\n",
    "    def is_client(company_name: str) -> bool:\n",
    "        for client in clients_list:\n",
    "            if fuzz.token_set_ratio(company_name.lower(), client.lower()) >= threshold:\n",
    "                return True\n",
    "        return False\n",
    "\n",
    "    return dataframe[~dataframe['current_company_name'].apply(is_client)]"
   ],
   "id": "d33e5390811bcd0f",
   "outputs": [],
   "execution_count": 25
  },
  {
   "metadata": {
    "ExecuteTime": {
     "end_time": "2024-07-23T11:59:57.374424Z",
     "start_time": "2024-07-23T11:59:57.364710Z"
    }
   },
   "cell_type": "code",
   "source": [
    "data = {\n",
    "    'lead_name': ['Lead 1', 'Lead 2', 'Lead 3', 'Lead 4', 'Lead 5'],\n",
    "    'current_company_name': ['ACR AFMA', 'Example Company', 'ALLIANZ AFRICA HOLDING GMBH', 'Another Company', 'TERMINAL HUILIER DE VRIDI']\n",
    "}\n",
    "df = pd.DataFrame(data)\n",
    "\n",
    "df"
   ],
   "id": "a2aa1b6b4d4194cf",
   "outputs": [
    {
     "data": {
      "text/plain": [
       "  lead_name         current_company_name\n",
       "0    Lead 1                     ACR AFMA\n",
       "1    Lead 2              Example Company\n",
       "2    Lead 3  ALLIANZ AFRICA HOLDING GMBH\n",
       "3    Lead 4              Another Company\n",
       "4    Lead 5    TERMINAL HUILIER DE VRIDI"
      ],
      "text/html": [
       "<div>\n",
       "<style scoped>\n",
       "    .dataframe tbody tr th:only-of-type {\n",
       "        vertical-align: middle;\n",
       "    }\n",
       "\n",
       "    .dataframe tbody tr th {\n",
       "        vertical-align: top;\n",
       "    }\n",
       "\n",
       "    .dataframe thead th {\n",
       "        text-align: right;\n",
       "    }\n",
       "</style>\n",
       "<table border=\"1\" class=\"dataframe\">\n",
       "  <thead>\n",
       "    <tr style=\"text-align: right;\">\n",
       "      <th></th>\n",
       "      <th>lead_name</th>\n",
       "      <th>current_company_name</th>\n",
       "    </tr>\n",
       "  </thead>\n",
       "  <tbody>\n",
       "    <tr>\n",
       "      <th>0</th>\n",
       "      <td>Lead 1</td>\n",
       "      <td>ACR AFMA</td>\n",
       "    </tr>\n",
       "    <tr>\n",
       "      <th>1</th>\n",
       "      <td>Lead 2</td>\n",
       "      <td>Example Company</td>\n",
       "    </tr>\n",
       "    <tr>\n",
       "      <th>2</th>\n",
       "      <td>Lead 3</td>\n",
       "      <td>ALLIANZ AFRICA HOLDING GMBH</td>\n",
       "    </tr>\n",
       "    <tr>\n",
       "      <th>3</th>\n",
       "      <td>Lead 4</td>\n",
       "      <td>Another Company</td>\n",
       "    </tr>\n",
       "    <tr>\n",
       "      <th>4</th>\n",
       "      <td>Lead 5</td>\n",
       "      <td>TERMINAL HUILIER DE VRIDI</td>\n",
       "    </tr>\n",
       "  </tbody>\n",
       "</table>\n",
       "</div>"
      ]
     },
     "execution_count": 26,
     "metadata": {},
     "output_type": "execute_result"
    }
   ],
   "execution_count": 26
  },
  {
   "metadata": {
    "ExecuteTime": {
     "end_time": "2024-07-23T12:00:04.607362Z",
     "start_time": "2024-07-23T12:00:04.595635Z"
    }
   },
   "cell_type": "code",
   "source": [
    "filtered_df = filter_non_clients(df)\n",
    "\n",
    "filtered_df"
   ],
   "id": "9eee44c296ec08b9",
   "outputs": [
    {
     "data": {
      "text/plain": [
       "  lead_name current_company_name\n",
       "1    Lead 2      Example Company\n",
       "3    Lead 4      Another Company"
      ],
      "text/html": [
       "<div>\n",
       "<style scoped>\n",
       "    .dataframe tbody tr th:only-of-type {\n",
       "        vertical-align: middle;\n",
       "    }\n",
       "\n",
       "    .dataframe tbody tr th {\n",
       "        vertical-align: top;\n",
       "    }\n",
       "\n",
       "    .dataframe thead th {\n",
       "        text-align: right;\n",
       "    }\n",
       "</style>\n",
       "<table border=\"1\" class=\"dataframe\">\n",
       "  <thead>\n",
       "    <tr style=\"text-align: right;\">\n",
       "      <th></th>\n",
       "      <th>lead_name</th>\n",
       "      <th>current_company_name</th>\n",
       "    </tr>\n",
       "  </thead>\n",
       "  <tbody>\n",
       "    <tr>\n",
       "      <th>1</th>\n",
       "      <td>Lead 2</td>\n",
       "      <td>Example Company</td>\n",
       "    </tr>\n",
       "    <tr>\n",
       "      <th>3</th>\n",
       "      <td>Lead 4</td>\n",
       "      <td>Another Company</td>\n",
       "    </tr>\n",
       "  </tbody>\n",
       "</table>\n",
       "</div>"
      ]
     },
     "execution_count": 27,
     "metadata": {},
     "output_type": "execute_result"
    }
   ],
   "execution_count": 27
  }
 ],
 "metadata": {
  "kernelspec": {
   "display_name": "Python 3",
   "language": "python",
   "name": "python3"
  },
  "language_info": {
   "codemirror_mode": {
    "name": "ipython",
    "version": 2
   },
   "file_extension": ".py",
   "mimetype": "text/x-python",
   "name": "python",
   "nbconvert_exporter": "python",
   "pygments_lexer": "ipython2",
   "version": "2.7.6"
  }
 },
 "nbformat": 4,
 "nbformat_minor": 5
}
